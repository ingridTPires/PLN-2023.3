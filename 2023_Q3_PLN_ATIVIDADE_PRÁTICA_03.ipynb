{
  "nbformat": 4,
  "nbformat_minor": 0,
  "metadata": {
    "colab": {
      "provenance": [],
      "include_colab_link": true
    },
    "kernelspec": {
      "name": "python3",
      "display_name": "Python 3"
    }
  },
  "cells": [
    {
      "cell_type": "markdown",
      "metadata": {
        "id": "view-in-github",
        "colab_type": "text"
      },
      "source": [
        "<a href=\"https://colab.research.google.com/github/ingridTPires/PLN-2023.3/blob/main/2023_Q3_PLN_ATIVIDADE_PR%C3%81TICA_03.ipynb\" target=\"_parent\"><img src=\"https://colab.research.google.com/assets/colab-badge.svg\" alt=\"Open In Colab\"/></a>"
      ]
    },
    {
      "cell_type": "markdown",
      "metadata": {
        "id": "Y6QILOdpOjwv"
      },
      "source": [
        "# **Processamento de Linguagem Natural [2023.Q3]**\n",
        "Prof. Alexandre Donizeti Alves"
      ]
    },
    {
      "cell_type": "markdown",
      "metadata": {
        "id": "8m67OOx9MX_3"
      },
      "source": [
        "### **ATIVIDADE PRÁTICA 03 [Tutorial sobre uma API]**\n",
        "\n",
        "---"
      ]
    },
    {
      "cell_type": "markdown",
      "metadata": {
        "id": "5Gk0nHKabBT-"
      },
      "source": [
        "A **ATIVIDADE PRÁTICA 03** deve ser feita utilizando o **Google Colab** com uma conta\n",
        "sua vinculada ao Gmail. O link do seu notebook, armazenado no Google Drive, além do link de um repositório no GitHub e os principais resultados da atividade, devem ser enviados usando o seguinte formulário:\n",
        "\n",
        "> https://forms.gle/nPsWnUuE5GCeXaiU8 (**AINDA EM CONSTRUÇÃO**)\n",
        "\n",
        "\n",
        "**IMPORTANTE**: A submissão deve ser feita APENAS POR UM INTEGRANTE DA EQUIPE até o dia 02/11 (quinta-feira - até às 23h59). Por favor, lembre-se de dar permissão de ACESSO IRRESTRITO para o professor da disciplina de PLN."
      ]
    },
    {
      "cell_type": "markdown",
      "metadata": {
        "id": "D7hJlilKM485"
      },
      "source": [
        "### **EQUIPE**\n",
        "\n",
        "---"
      ]
    },
    {
      "cell_type": "markdown",
      "source": [
        "**POR FAVOR, PREENCHER OS INTEGRANDES DA SUA EQUIPE:**\n",
        "\n",
        "\n",
        "**Integrante 01:**\n",
        "\n",
        "`Por favor, informe o seu nome completo e RA:` David Oliveira Silva -  11201721357\n",
        "\n",
        "**Integrante 02:**\n",
        "\n",
        "`Por favor, informe o seu nome completo e RA:` Ingrid Teixeira Pires - 11201812175\n",
        "\n",
        "**Integrante 03:**\n",
        "\n",
        "`Por favor, informe o seu nome completo e RA:` Bruno Delphini Fontanezi - 11202130336"
      ],
      "metadata": {
        "id": "tnIArN0QY-Ek"
      }
    },
    {
      "cell_type": "markdown",
      "source": [
        "### **API**\n",
        "---"
      ],
      "metadata": {
        "id": "6yExhaebs-nD"
      }
    },
    {
      "cell_type": "markdown",
      "source": [
        "**QUAL A API SELECIONADA POR SUA EQUIPE?**\n",
        "\n",
        "`API: `PRAW 7.7.1\n",
        "\n",
        "`Site oficial: `https://praw.readthedocs.io/\n",
        "\n",
        "`Link para a documentação oficial:`https://praw.readthedocs.io/"
      ],
      "metadata": {
        "id": "DjJM_qhEZRy6"
      }
    },
    {
      "cell_type": "markdown",
      "metadata": {
        "id": "EtjgWQRzNphL"
      },
      "source": [
        "### **DESCRIÇÃO**\n",
        "---"
      ]
    },
    {
      "cell_type": "markdown",
      "source": [
        "Implementar um `notebook` no `Google Colab` para demonstrar passo a passo como usar uma determinada **API** em `Python`, ou seja, criar um **TUTORIAL** destacando desde a instalação e configuração da **API** até as principais finalidades. O **TUTORIAL** deve ser o mais completo possível, com diversos exemplos de uso e permitindo ser facilmente reproduzido.\n",
        "\n",
        "A **API** deve ser selecionada na seguinte planilha:\n",
        "\n",
        "https://docs.google.com/spreadsheets/d/1-Q1szJ3UmoE2_3LtcRQyqid5fPIcnpsR3XAPnoxLj2o/edit?usp=sharing\n",
        "\n",
        ">\n",
        "\n",
        "**IMPORTANTE:** É obrigatório usar o e-mail da UFABC.\n",
        "\n",
        ">\n",
        "\n",
        "**DICA:** Por favor, insira o seu nome ou da sua equipe na ordem definida na planilha. A escolha da **API** deve ser feita de acordo com a lista disponibilizada na planilha. Cada **API** só pode ser escolhida por, no **MÁXIMO**, 2 equipes."
      ],
      "metadata": {
        "id": "fXTwkiiGs2BV"
      }
    },
    {
      "cell_type": "markdown",
      "source": [
        "### **CRITÉRIOS DE AVALIAÇÃO**\n",
        "---\n"
      ],
      "metadata": {
        "id": "gWsBYQNtxmum"
      }
    },
    {
      "cell_type": "markdown",
      "source": [
        "As 3 equipes que **criarem os melhores tutoriais**  terão o peso diminuido na AVALIAÇÃO (Prova Escrita) em **25%** (caindo de 40 para 30).\n",
        "\n",
        "**IMPORTANTE**: a diminuição no peso da AVALIAÇÃO será aplicado para todos os membros da equipe.\n",
        "\n",
        "\n",
        "\n"
      ],
      "metadata": {
        "id": "5iHdx4BXYruQ"
      }
    },
    {
      "cell_type": "markdown",
      "source": [
        "### **TUTORIAL**\n",
        "---"
      ],
      "metadata": {
        "id": "nw09lujGvfjc"
      }
    },
    {
      "cell_type": "markdown",
      "source": [
        "**PRAW 7.7.1**"
      ],
      "metadata": {
        "id": "5q9zcrJj0n4H"
      }
    },
    {
      "cell_type": "markdown",
      "source": [
        "#### **INTRODUÇÃO**"
      ],
      "metadata": {
        "id": "ZM2EJhRIaaa2"
      }
    },
    {
      "cell_type": "markdown",
      "source": [
        "**Descrição da API**"
      ],
      "metadata": {
        "id": "FjG5RIW5bMfd"
      }
    },
    {
      "cell_type": "markdown",
      "source": [
        "Neste tutorial iremos utilizar a \"Python Reddit API Wrapper\" (**PRAW**), desenvolvida para suportar Python 3.7+.\n",
        "\n",
        "Um \"API wrapper\" (também conhecido como \"API client\" ou \"API library\") é um conjunto de funções e classes em um determinado código ou linguagem de programação que simplifica o acesso e o uso de uma API específica, fornecendo uma camada de abstração que lida com muitos dos detalhes técnicos e complexidades de fazer solicitações HTTP, autenticação e processamento de respostas.\n",
        "\n",
        "O Reddit é uma plataforma de mídia social onde as pessoas compartilham links, textos, imagens e vídeos sobre diversos tópicos. Os usuários se juntam a \"subreddits\" relacionados a seus interesses, onde podem postar conteúdo, votar em postagens e comentários, deixar comentários e interagir com outras pessoas. Os tópicos variam amplamente, e o conteúdo mais popular se destaca com base em votos positivos. É uma comunidade diversa e um lugar onde as pessoas discutem e compartilham informações sobre praticamente qualquer coisa."
      ],
      "metadata": {
        "id": "7kndSzDVbQkd"
      }
    },
    {
      "cell_type": "markdown",
      "source": [
        "#### **CONFIGURAÇÃO**"
      ],
      "metadata": {
        "id": "5DIH_lmdaqrh"
      }
    },
    {
      "cell_type": "markdown",
      "source": [
        "Primeiro precisamos installar a API"
      ],
      "metadata": {
        "id": "A6Pxx3wZ4yfU"
      }
    },
    {
      "cell_type": "code",
      "source": [
        "! pip install praw"
      ],
      "metadata": {
        "id": "oqM3mRBsbBYZ",
        "colab": {
          "base_uri": "https://localhost:8080/"
        },
        "outputId": "8d985290-ad71-4d48-d033-c5fe21b862b1"
      },
      "execution_count": null,
      "outputs": [
        {
          "output_type": "stream",
          "name": "stdout",
          "text": [
            "Collecting praw\n",
            "  Downloading praw-7.7.1-py3-none-any.whl (191 kB)\n",
            "\u001b[?25l     \u001b[90m━━━━━━━━━━━━━━━━━━━━━━━━━━━━━━━━━━━━━━━━\u001b[0m \u001b[32m0.0/191.0 kB\u001b[0m \u001b[31m?\u001b[0m eta \u001b[36m-:--:--\u001b[0m\r\u001b[2K     \u001b[91m━━━━━━━━━━━━━━━━━━━\u001b[0m\u001b[90m╺\u001b[0m\u001b[90m━━━━━━━━━━━━━━━━━━━━\u001b[0m \u001b[32m92.2/191.0 kB\u001b[0m \u001b[31m2.6 MB/s\u001b[0m eta \u001b[36m0:00:01\u001b[0m\r\u001b[2K     \u001b[90m━━━━━━━━━━━━━━━━━━━━━━━━━━━━━━━━━━━━━━━━\u001b[0m \u001b[32m191.0/191.0 kB\u001b[0m \u001b[31m3.5 MB/s\u001b[0m eta \u001b[36m0:00:00\u001b[0m\n",
            "\u001b[?25hCollecting prawcore<3,>=2.1 (from praw)\n",
            "  Downloading prawcore-2.4.0-py3-none-any.whl (17 kB)\n",
            "Collecting update-checker>=0.18 (from praw)\n",
            "  Downloading update_checker-0.18.0-py3-none-any.whl (7.0 kB)\n",
            "Requirement already satisfied: websocket-client>=0.54.0 in /usr/local/lib/python3.10/dist-packages (from praw) (1.6.4)\n",
            "Requirement already satisfied: requests<3.0,>=2.6.0 in /usr/local/lib/python3.10/dist-packages (from prawcore<3,>=2.1->praw) (2.31.0)\n",
            "Requirement already satisfied: charset-normalizer<4,>=2 in /usr/local/lib/python3.10/dist-packages (from requests<3.0,>=2.6.0->prawcore<3,>=2.1->praw) (3.3.1)\n",
            "Requirement already satisfied: idna<4,>=2.5 in /usr/local/lib/python3.10/dist-packages (from requests<3.0,>=2.6.0->prawcore<3,>=2.1->praw) (3.4)\n",
            "Requirement already satisfied: urllib3<3,>=1.21.1 in /usr/local/lib/python3.10/dist-packages (from requests<3.0,>=2.6.0->prawcore<3,>=2.1->praw) (2.0.7)\n",
            "Requirement already satisfied: certifi>=2017.4.17 in /usr/local/lib/python3.10/dist-packages (from requests<3.0,>=2.6.0->prawcore<3,>=2.1->praw) (2023.7.22)\n",
            "Installing collected packages: update-checker, prawcore, praw\n",
            "Successfully installed praw-7.7.1 prawcore-2.4.0 update-checker-0.18.0\n"
          ]
        }
      ]
    },
    {
      "cell_type": "markdown",
      "source": [
        "E agora importar para nosso código"
      ],
      "metadata": {
        "id": "2BoOlm-i47GL"
      }
    },
    {
      "cell_type": "code",
      "source": [
        "import praw"
      ],
      "metadata": {
        "id": "XMTjMsDK4_RB"
      },
      "execution_count": null,
      "outputs": []
    },
    {
      "cell_type": "markdown",
      "source": [
        "#### **AUTENTICAÇÃO**"
      ],
      "metadata": {
        "id": "SwZgsj4narLo"
      }
    },
    {
      "cell_type": "markdown",
      "source": [
        "Para a autenticação vamos precisar do client_id e do client_secret.\n",
        "\n",
        "Ambos são obtidos após realizar um cadastro no site \"https://www.reddit.com/prefs/apps\" e associar seu app com uma conta reddit.\n",
        "\n",
        "Para o cadastro insira um nome arbitrário e selecione a opção \"script\".\n",
        "\n",
        "Clique em \"create app\" !\n",
        "\n",
        "![image.png](data:image/png;base64,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)"
      ],
      "metadata": {
        "id": "Z_jNsY1U13ZL"
      }
    },
    {
      "cell_type": "code",
      "source": [
        "\n",
        "reddit = praw.Reddit(\n",
        "    client_id=\"Ns9mGPY5emgmOTB-htAeCw\",\n",
        "    client_secret=\"lPCbXgSKCdYf_LjYb90yDeHIVlP-dQ\",\n",
        "    user_agent = \"ufabc test\",\n",
        ")\n",
        "\n"
      ],
      "metadata": {
        "id": "uzdu2MfwbA1R"
      },
      "execution_count": null,
      "outputs": []
    },
    {
      "cell_type": "markdown",
      "source": [
        "Caso queira também automatizar ações que um usuário faziam (comentar, curtir, favoritar, etc), é preciso passar seu login como username e sua senha como password."
      ],
      "metadata": {
        "id": "Y9iXZgNy1A-O"
      }
    },
    {
      "cell_type": "code",
      "source": [
        "\n",
        "reddit = praw.Reddit(\n",
        "    client_id=\"Ns9mGPY5emgmOTB-htAeCw\",\n",
        "    client_secret=\"lPCbXgSKCdYf_LjYb90yDeHIVlP-dQ\",\n",
        "    user_agent = \"ufabc test\",\n",
        "    username = \"meulogin\",\n",
        "    password = \"senha123\",\n",
        ")\n"
      ],
      "metadata": {
        "id": "F-w3ARzW1fU1"
      },
      "execution_count": null,
      "outputs": []
    },
    {
      "cell_type": "markdown",
      "source": [
        "#### **UTILIZAÇÃO BÁSICA**"
      ],
      "metadata": {
        "id": "ZjXBfNHwarfV"
      }
    },
    {
      "cell_type": "markdown",
      "source": [
        "Para iniciar precisamos passar qual o subreddit (são grupos no reddit que usuário discutem tópicos de interesse comum) que será analisado.\n",
        "\n",
        "No caso escolhemos \"Brazil\" que é um subreddit destinado a pessoas que vão vir para o Brasil a turismo.\n"
      ],
      "metadata": {
        "id": "OmYtfudO2-L9"
      }
    },
    {
      "cell_type": "code",
      "source": [
        "\n",
        "# Escolha o subreddit\n",
        "subreddit = reddit.subreddit(\"Brazil\")\n"
      ],
      "metadata": {
        "id": "bNqB40PlbAWx"
      },
      "execution_count": null,
      "outputs": []
    },
    {
      "cell_type": "markdown",
      "source": [
        "Agora dentro desse subreddit, podemos começar a pesquisar os posts de acordo com alguns parametros, como por exemplo:\n",
        "\n",
        "10 posts mais votados,"
      ],
      "metadata": {
        "id": "Vc-O0stK3dAq"
      }
    },
    {
      "cell_type": "code",
      "source": [
        "top_posts = subreddit.top(limit=10)"
      ],
      "metadata": {
        "id": "CFk2VxGX3cdo"
      },
      "execution_count": null,
      "outputs": []
    },
    {
      "cell_type": "markdown",
      "source": [
        "10 post mais polêmicos,"
      ],
      "metadata": {
        "id": "KpELFh1O3tIO"
      }
    },
    {
      "cell_type": "code",
      "source": [
        "hot_posts = subreddit.hot(limit=10)"
      ],
      "metadata": {
        "id": "xjmuYmNH3zYN"
      },
      "execution_count": null,
      "outputs": []
    },
    {
      "cell_type": "markdown",
      "source": [
        "10 posts mais recentes,"
      ],
      "metadata": {
        "id": "xfCMk9SO33I2"
      }
    },
    {
      "cell_type": "code",
      "source": [
        "new_posts = subreddit.new(limit=10)"
      ],
      "metadata": {
        "id": "aDergy3I33CB"
      },
      "execution_count": null,
      "outputs": []
    },
    {
      "cell_type": "markdown",
      "source": [
        "10 posts que incluam a palavra \"x\", que no caso é feijoada,"
      ],
      "metadata": {
        "id": "cyvbzVde3zDs"
      }
    },
    {
      "cell_type": "code",
      "source": [
        "pesquisa_palavra = subreddit.search(\"FEIJOADA\", limit=10)"
      ],
      "metadata": {
        "id": "QlLsPv264LZu"
      },
      "execution_count": null,
      "outputs": []
    },
    {
      "cell_type": "markdown",
      "source": [
        "Permite inscrever-se em um subreddit"
      ],
      "metadata": {
        "id": "M39tRrvNPS-F"
      }
    },
    {
      "cell_type": "code",
      "source": [
        "subreddit.subscribe()"
      ],
      "metadata": {
        "id": "YMNR4PpNPSFm"
      },
      "execution_count": null,
      "outputs": []
    },
    {
      "cell_type": "markdown",
      "source": [
        "#### **EXEMPLOS PRÁTICOS**"
      ],
      "metadata": {
        "id": "marqph_raryN"
      }
    },
    {
      "cell_type": "markdown",
      "source": [
        "Agora podemos mostrar várias informações desses post que foram selecionados anteriormente, como título, texto, id, URL, autor, etc."
      ],
      "metadata": {
        "id": "lLYqgQPx4YTc"
      }
    },
    {
      "cell_type": "code",
      "source": [
        "# Percorre todos os posts que foram obtidos nos mais votados\n",
        "for post in top_posts:\n",
        "    print(\"Título: \", post.title)\n",
        "    print(\"Texto: \", post.selftext)\n",
        "    print(\"ID: \", post.id)\n",
        "    print(\"URL: \", post.url)\n",
        "    print(\"Autor: \", post.author)\n",
        "    print(\"Score: \", post.score)\n",
        "    print(\"Número de comentários: \", post.num_comments)\n",
        "    print(\"Criado em: \", post.created_utc)\n",
        "    print(\"\\n\")"
      ],
      "metadata": {
        "id": "_P43WKEw0D6t"
      },
      "execution_count": null,
      "outputs": []
    },
    {
      "cell_type": "code",
      "source": [
        "# Percorre todos os posts maios polemicos que foram obtidos e exibe informações sobre eles\n",
        "for post in hot_posts:\n",
        "    print(\"Título: \", post.title)\n",
        "    print(\"Texto: \", post.selftext)\n",
        "    print(\"ID: \", post.id)\n",
        "    print(\"URL: \", post.url)\n",
        "    print(\"Autor: \", post.author)\n",
        "    print(\"Score: \", post.score)\n",
        "    print(\"Número de comentários: \", post.num_comments)\n",
        "    print(\"Criado em: \", post.created_utc)\n",
        "    print(\"\\n\")"
      ],
      "metadata": {
        "id": "HLZhmddS00ly"
      },
      "execution_count": null,
      "outputs": []
    },
    {
      "cell_type": "code",
      "source": [
        "# Percorre todos os posts novos que foram obtidos\n",
        "for post in new_posts:\n",
        "    print(\"Título: \", post.title)\n",
        "    print(\"Texto: \", post.selftext)\n",
        "    print(\"ID: \", post.id)\n",
        "    print(\"URL: \", post.url)\n",
        "    print(\"Autor: \", post.author)\n",
        "    print(\"Score: \", post.score)\n",
        "    print(\"Número de comentários: \", post.num_comments)\n",
        "    print(\"Criado em: \", post.created_utc)\n",
        "    print(\"\\n\")"
      ],
      "metadata": {
        "id": "omJ3XLza0Pl4"
      },
      "execution_count": null,
      "outputs": []
    },
    {
      "cell_type": "code",
      "source": [
        "# Percorre todos os posts que foram obtidos na pesquisa por palavra e exibe informações sobre eles\n",
        "for post in pesquisa_palavra:\n",
        "    print(\"Título: \", post.title)\n",
        "    print(\"Texto: \", post.selftext)\n",
        "    print(\"ID: \", post.id)\n",
        "    print(\"URL: \", post.url)\n",
        "    print(\"Autor: \", post.author)\n",
        "    print(\"Score: \", post.score)\n",
        "    print(\"Número de comentários: \", post.num_comments)\n",
        "    print(\"Criado em: \", post.created_utc)\n",
        "    print(\"\\n\")\n",
        "\n"
      ],
      "metadata": {
        "id": "aL49vegTa_4e"
      },
      "execution_count": null,
      "outputs": []
    },
    {
      "cell_type": "markdown",
      "source": [
        "**Autenticação:**\n",
        "\n",
        "`Reddit()`: Cria uma instância da API PRAW, que permite autenticar-se no Reddit.\n",
        "\n",
        "\n",
        "**Acesso a Subreddits:**\n",
        "\n",
        "`subreddit()`: Acessa informações e funcionalidades de um subreddit específico.\n",
        "\n",
        "`subreddit.search()`: Permite buscar subreddits por palavras-chave.\n",
        "\n",
        "`subreddit.subscribe()`: Permite inscrever-se em um subreddit.\n",
        "\n",
        "`subreddit.unsubscribe()`: Permite cancelar a inscrição em um subreddit.\n",
        "\n",
        "\n",
        "**Acesso a Posts:**\n",
        "\n",
        "`subreddit.hot()`: Retorna os posts mais populares de um subreddit.\n",
        "\n",
        "`subreddit.top()`: Retorna os posts mais bem avaliados de um subreddit.\n",
        "\n",
        "`submission()`: Acessa informações e funcionalidades de um post específico.\n",
        "\n",
        "`submission.comments()`: Retorna os comentários de um post.\n",
        "\n",
        "`submission.upvote()`: Permite dar upvote a um post ou comentário.\n",
        "\n",
        "`submission.downvote()`: Permite dar downvote a um post ou comentário.\n",
        "\n",
        "\n",
        "**Interagir com Comentários:**\n",
        "\n",
        "`comment()`: Acessa informações e funcionalidades de um comentário específico.\n",
        "\n",
        "`comment.upvote()`: Permite dar upvote a um comentário.\n",
        "\n",
        "`comment.downvote()`: Permite dar downvote a um comentário.\n",
        "\n",
        "`comment.reply()`: Permite responder a um comentário.\n",
        "\n",
        "\n",
        "**Interação com o Usuário:**\n",
        "\n",
        "`redditor()`: Acessa informações e funcionalidades de um usuário específico.\n",
        "\n",
        "`redditor.comments.new()`: Retorna os comentários mais recentes feitos por um usuário.\n",
        "\n",
        "`redditor.submissions.new()`: Retorna os posts mais recentes feitos por um usuário.\n",
        "\n",
        "\n",
        "**Pesquisa:**\n",
        "\n",
        "`Reddit().search()`: Permite buscar posts no Reddit por palavras-chave.\n",
        "\n",
        "\n",
        "**Envio de Posts e Comentários:**\n",
        "\n",
        "`subreddit.submit()`: Permite criar um novo post em um subreddit.\n",
        "\n",
        "`comment.reply()`: Permite criar um novo comentário em um post.\n",
        "\n",
        "\n",
        "**Mensagens Privadas:**\n",
        "\n",
        "`inbox()`: Acessa a caixa de entrada de mensagens privadas.\n",
        "\n",
        "`message()`: Acessa informações e funcionalidades de uma mensagem privada específica.\n",
        "\n",
        "`message.reply()`: Permite responder a uma mensagem privada."
      ],
      "metadata": {
        "id": "9ttZOKDKbeP6"
      }
    },
    {
      "cell_type": "markdown",
      "source": [
        "> ###### **Outro exemplo prático**\n",
        "\n"
      ],
      "metadata": {
        "id": "BF0OXiondXwA"
      }
    },
    {
      "cell_type": "markdown",
      "source": [
        "Utilizaremos a URL a seguir para um novo objeto de envio.\n",
        "\n",
        "Também importaremos a classe \"MoreComments\" da biblioteca PRAW usada para representar comentários agrupados em uma postagem que não foram totalmente carregados ainda. Quando você acessa uma postagem no Reddit que tem muitos comentários, nem todos os comentários são carregados de uma só vez. Em vez disso, alguns são agrupados e exibidos como \"Load More Comments\".\n",
        "\n"
      ],
      "metadata": {
        "id": "Ew9lPshvdxMx"
      }
    },
    {
      "cell_type": "code",
      "source": [
        "from praw.models import MoreComments\n",
        "\n",
        "url = \"https://www.reddit.com/r/UpliftingNews/comments/lemy1b/student_who_made_30k_from_gamestop_donates_games/\"\n",
        "submission = reddit.submission(url=url)"
      ],
      "metadata": {
        "id": "ZprwQjA6ZVnc"
      },
      "execution_count": null,
      "outputs": []
    },
    {
      "cell_type": "markdown",
      "source": [
        "Vamos utilizar o objeto PRAW para recuperar os dados!\n",
        "\n",
        "1.   Criamos um array de comentários da postagem que iremos percorrer no loop em seguida;\n",
        "2.   A validação \"*isinstance*\" verifica se o comentário atual é do tipo MoreComments. Os objetos MoreComments representam comentários agrupados que não foram totalmente carregados;\n",
        "3.   Esta linha \"*comment.refresh()*\" faz uma solicitação para carregar os comentários agrupados representados pelo objeto MoreComments. Depois de chamar *refresh()*, esses comentários adicionais são carregados e adicionados à discussão.\n",
        "\n",
        "Isso pode ser útil ao acessar postagens com muitos comentários para garantir que você obtenha uma lista completa de todos os comentários.\n",
        "\n",
        "Por fim exibidos a lista de comentários no último loop."
      ],
      "metadata": {
        "id": "VedcxsEvfjIu"
      }
    },
    {
      "cell_type": "code",
      "source": [
        "comments = []\n",
        "\n",
        "for top_level_comment in submission.comments[1:]:\n",
        "    if isinstance(top_level_comment, MoreComments):\n",
        "        continue\n",
        "\n",
        "    comment_text = top_level_comment.body\n",
        "    comments.append(comment_text)\n",
        "\n",
        "for i, comment in enumerate(comments, start=1):\n",
        "    print(f\"Comment {i}: {comment}\")\n"
      ],
      "metadata": {
        "id": "U-2NzOamdHVM"
      },
      "execution_count": null,
      "outputs": []
    },
    {
      "cell_type": "markdown",
      "source": [
        "O código acima pode ser reescrito para ignorar os comentários com texto igual a '[removed]' ou '[deleted]' que não serão adicionados à lista comments."
      ],
      "metadata": {
        "id": "kyQSaEH_fCu4"
      }
    },
    {
      "cell_type": "code",
      "source": [
        "comments = []\n",
        "\n",
        "for top_level_comment in submission.comments[1:]:\n",
        "    if isinstance(top_level_comment, MoreComments):\n",
        "        continue\n",
        "\n",
        "    comment_text = top_level_comment.body\n",
        "    if comment_text not in ('[removed]', '[deleted]'):\n",
        "        comments.append(comment_text)\n",
        "\n",
        "for i, comment in enumerate(comments, start=1):\n",
        "    print(f\"Comment {i}: {comment}\")\n"
      ],
      "metadata": {
        "id": "aPBNIDtRZWBe"
      },
      "execution_count": null,
      "outputs": []
    },
    {
      "cell_type": "markdown",
      "source": [
        "Para automatizar interações com posts, as seguintes funções podem ser usadas."
      ],
      "metadata": {
        "id": "tB-rchO4QwMe"
      }
    },
    {
      "cell_type": "code",
      "source": [
        "# Percorre todos os posts novos que foram obtidos e curte os comentários\n",
        "\n",
        "for post in new_posts:\n",
        "  for post.comments.list() in post:\n",
        "    post.comments.list().upvote()"
      ],
      "metadata": {
        "id": "eBjSJ1UFRJcd"
      },
      "execution_count": null,
      "outputs": []
    },
    {
      "cell_type": "code",
      "source": [
        "# Para responder de forma automatizada os comentários pode-se usar a função reply em conjunto com um loop\n",
        "\n",
        "resposta = 'Insira a resposta...'\n",
        "\n",
        "for post in new_posts:\n",
        "  for post.comments.list() in post:\n",
        "    post.comments.list().reply(resposta)"
      ],
      "metadata": {
        "id": "R7NXDlOLS6un"
      },
      "execution_count": null,
      "outputs": []
    },
    {
      "cell_type": "markdown",
      "source": [
        "#### **CONSIDERAÇÕES**"
      ],
      "metadata": {
        "id": "xIP2DoACa7of"
      }
    },
    {
      "cell_type": "markdown",
      "source": [
        "Atualmente, as APIs são uma ferramenta muito valiosa no desenvolvimento de software devido a possibilidade de integração de serviços e dados, compartilhando informação, além da reutilização de funcionalidades de outros aplicativos e plataformasa, bem como a automatização de processos, como coleta de dados ou publicação em mídias sociais, agilizando a análise de dados.\n",
        "\n",
        "Com a Praw podemos realizar diversas tarefas de processamento de linguagem natural, como análise de sentimentos, extração de tópicos, classificação de conteúdo, geração de resumos, identificação de palavras-chave, recomendações personalizadas e muito mais. Essas capacidades permitem a análise e o entendimento de dados do Reddit de maneira mais aprofundada, auxiliando na pesquisa, moderação e interações em comunidades específicas da plataforma."
      ],
      "metadata": {
        "id": "dCRN197XbcQH"
      }
    },
    {
      "cell_type": "markdown",
      "source": [
        "**REFERÊNCIAS**\n",
        "\n",
        "---\n",
        "\n"
      ],
      "metadata": {
        "id": "DJa20CJRpQ7t"
      }
    },
    {
      "cell_type": "markdown",
      "source": [
        "PRAW: The Python Reddit API Wrapper — PRAW 7.4.0 documentation. Disponível em: <https://praw.readthedocs.io/en/stable/>.\n",
        "\n",
        "Scraping Reddit using Python Reddit API Wrapper (PRAW). Disponível em: <https://medium.com/analytics-vidhya/scraping-reddit-using-python-reddit-api-wrapper-praw-5c275e34a8f4>\n",
        "‌\n"
      ],
      "metadata": {
        "id": "GxpuIOR3pUWr"
      }
    }
  ]
}